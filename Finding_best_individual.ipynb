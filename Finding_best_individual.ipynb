{
  "nbformat": 4,
  "nbformat_minor": 0,
  "metadata": {
    "colab": {
      "name": "ML.ipynb",
      "provenance": [],
      "authorship_tag": "ABX9TyPMInGPetveTKvb7vxRZONc",
      "include_colab_link": true
    },
    "kernelspec": {
      "name": "python3",
      "display_name": "Python 3"
    }
  },
  "cells": [
    {
      "cell_type": "markdown",
      "metadata": {
        "id": "view-in-github",
        "colab_type": "text"
      },
      "source": [
        "<a href=\"https://colab.research.google.com/github/MahimaGaikwad/Genetic-algorithm-to-find-optimize-model/blob/master/Finding_best_individual.ipynb\" target=\"_parent\"><img src=\"https://colab.research.google.com/assets/colab-badge.svg\" alt=\"Open In Colab\"/></a>"
      ]
    },
    {
      "cell_type": "code",
      "metadata": {
        "id": "nS7hsxkPUuEH",
        "colab_type": "code",
        "outputId": "e8f5360b-1fd7-43b1-8397-9dd3532ecb61",
        "colab": {
          "base_uri": "https://localhost:8080/",
          "height": 122
        }
      },
      "source": [
        "from google.colab import drive\n",
        "drive.mount('/content/gdrive')\n"
      ],
      "execution_count": 1,
      "outputs": [
        {
          "output_type": "stream",
          "text": [
            "Go to this URL in a browser: https://accounts.google.com/o/oauth2/auth?client_id=947318989803-6bn6qk8qdgf4n4g3pfee6491hc0brc4i.apps.googleusercontent.com&redirect_uri=urn%3aietf%3awg%3aoauth%3a2.0%3aoob&response_type=code&scope=email%20https%3a%2f%2fwww.googleapis.com%2fauth%2fdocs.test%20https%3a%2f%2fwww.googleapis.com%2fauth%2fdrive%20https%3a%2f%2fwww.googleapis.com%2fauth%2fdrive.photos.readonly%20https%3a%2f%2fwww.googleapis.com%2fauth%2fpeopleapi.readonly\n",
            "\n",
            "Enter your authorization code:\n",
            "··········\n",
            "Mounted at /content/gdrive\n"
          ],
          "name": "stdout"
        }
      ]
    },
    {
      "cell_type": "code",
      "metadata": {
        "id": "w_SZV6thW-My",
        "colab_type": "code",
        "outputId": "ac2d0190-0f5f-4548-f74c-c1156c68641f",
        "colab": {
          "base_uri": "https://localhost:8080/",
          "height": 139
        }
      },
      "source": [
        "!pip install deap"
      ],
      "execution_count": 3,
      "outputs": [
        {
          "output_type": "stream",
          "text": [
            "Collecting deap\n",
            "\u001b[?25l  Downloading https://files.pythonhosted.org/packages/0a/eb/2bd0a32e3ce757fb26264765abbaedd6d4d3640d90219a513aeabd08ee2b/deap-1.3.1-cp36-cp36m-manylinux2010_x86_64.whl (157kB)\n",
            "\r\u001b[K     |██                              | 10kB 16.2MB/s eta 0:00:01\r\u001b[K     |████▏                           | 20kB 2.6MB/s eta 0:00:01\r\u001b[K     |██████▎                         | 30kB 3.5MB/s eta 0:00:01\r\u001b[K     |████████▍                       | 40kB 2.7MB/s eta 0:00:01\r\u001b[K     |██████████▍                     | 51kB 3.0MB/s eta 0:00:01\r\u001b[K     |████████████▌                   | 61kB 3.5MB/s eta 0:00:01\r\u001b[K     |██████████████▋                 | 71kB 3.9MB/s eta 0:00:01\r\u001b[K     |████████████████▊               | 81kB 4.4MB/s eta 0:00:01\r\u001b[K     |██████████████████▊             | 92kB 4.6MB/s eta 0:00:01\r\u001b[K     |████████████████████▉           | 102kB 4.5MB/s eta 0:00:01\r\u001b[K     |███████████████████████         | 112kB 4.5MB/s eta 0:00:01\r\u001b[K     |█████████████████████████       | 122kB 4.5MB/s eta 0:00:01\r\u001b[K     |███████████████████████████▏    | 133kB 4.5MB/s eta 0:00:01\r\u001b[K     |█████████████████████████████▏  | 143kB 4.5MB/s eta 0:00:01\r\u001b[K     |███████████████████████████████▎| 153kB 4.5MB/s eta 0:00:01\r\u001b[K     |████████████████████████████████| 163kB 4.5MB/s \n",
            "\u001b[?25hRequirement already satisfied: numpy in /usr/local/lib/python3.6/dist-packages (from deap) (1.18.2)\n",
            "Installing collected packages: deap\n",
            "Successfully installed deap-1.3.1\n"
          ],
          "name": "stdout"
        }
      ]
    },
    {
      "cell_type": "code",
      "metadata": {
        "id": "qqnFBOXxXp1w",
        "colab_type": "code",
        "outputId": "0a7fcfa8-67c3-4975-beb7-99f19aa01de5",
        "colab": {
          "base_uri": "https://localhost:8080/",
          "height": 105
        }
      },
      "source": [
        "!pip install bitstring"
      ],
      "execution_count": 4,
      "outputs": [
        {
          "output_type": "stream",
          "text": [
            "Collecting bitstring\n",
            "  Downloading https://files.pythonhosted.org/packages/c7/b9/ce7458b35633968eae3477a201a00f6c8e01cab0ccb200ea5099d41dd977/bitstring-3.1.6-py3-none-any.whl\n",
            "Installing collected packages: bitstring\n",
            "Successfully installed bitstring-3.1.6\n"
          ],
          "name": "stdout"
        }
      ]
    },
    {
      "cell_type": "code",
      "metadata": {
        "id": "K_JyMk8iXvtW",
        "colab_type": "code",
        "colab": {}
      },
      "source": [
        "import numpy as np\n",
        "import pandas as pd\n",
        "from sklearn.metrics import mean_squared_error\n",
        "from sklearn.model_selection import train_test_split as split\n",
        "\n",
        "from keras.layers import LSTM, Input, Dense\n",
        "from keras.models import Model\n",
        "\n",
        "from deap import base, creator, tools, algorithms\n",
        "from scipy.stats import bernoulli\n",
        "from bitstring import BitArray\n",
        "\n",
        "np.random.seed(1120)"
      ],
      "execution_count": 0,
      "outputs": []
    },
    {
      "cell_type": "code",
      "metadata": {
        "id": "KhKVVjXiX0gw",
        "colab_type": "code",
        "colab": {
          "base_uri": "https://localhost:8080/",
          "height": 51
        },
        "outputId": "453c624f-30c6-439e-b08b-80a39c5688f2"
      },
      "source": [
        "data = pd.read_csv('/content/gdrive/My Drive/Colab Notebooks/Global Energy Forecasting Competition 2012 - Wind Forecasting/train.csv')\n",
        "data = np.reshape(np.array(data['wp1']),(len(data['wp1']),1))\n",
        "\n",
        "train_data = data[0:17257]\n",
        "test_data = data[17257:]\n",
        "\n",
        "print(train_data.shape)\n",
        "print(test_data.shape)"
      ],
      "execution_count": 23,
      "outputs": [
        {
          "output_type": "stream",
          "text": [
            "(17257, 1)\n",
            "(1500, 1)\n"
          ],
          "name": "stdout"
        }
      ]
    },
    {
      "cell_type": "code",
      "metadata": {
        "id": "sR-_ZyWf3-4U",
        "colab_type": "code",
        "colab": {}
      },
      "source": [
        "def prepare_dataset(data, window_size):\n",
        "    X, Y = np.empty((0,window_size)), np.empty((0))\n",
        "    for i in range(len(data)-window_size-1):\n",
        "        X = np.vstack([X,data[i:(i + window_size),0]])\n",
        "        Y = np.append(Y,data[i + window_size,0])   \n",
        "    X = np.reshape(X,(len(X),window_size,1))\n",
        "    Y = np.reshape(Y,(len(Y),1))\n",
        "    return X, Y"
      ],
      "execution_count": 0,
      "outputs": []
    },
    {
      "cell_type": "code",
      "metadata": {
        "id": "wonM3RD74CHC",
        "colab_type": "code",
        "colab": {}
      },
      "source": [
        "def train_evaluate(ga_individual_solution):   \n",
        "    # Decode genetic algorithm solution to integer for window_size and num_units\n",
        "    window_size_bits = BitArray(ga_individual_solution[0:6])\n",
        "    num_units_bits = BitArray(ga_individual_solution[6:]) \n",
        "    window_size = window_size_bits.uint\n",
        "    num_units = num_units_bits.uint\n",
        "    print('\\nWindow Size: ', window_size, ', Num of Units: ', num_units)\n",
        "    \n",
        "    # Return fitness score of 100 if window_size or num_unit is zero\n",
        "    if window_size == 0 or num_units == 0:\n",
        "        return 100, \n",
        "    \n",
        "    # Segment the train_data based on new window_size; split into train and validation (80/20)\n",
        "    X,Y = prepare_dataset(train_data,window_size)\n",
        "    X_train, X_val, y_train, y_val = split(X, Y, test_size = 0.20, random_state = 1120)\n",
        "    \n",
        "    # Train LSTM model and predict on validation set\n",
        "    inputs = Input(shape=(window_size,1))\n",
        "    x = LSTM(num_units, input_shape=(window_size,1))(inputs)\n",
        "    predictions = Dense(1, activation='linear')(x)\n",
        "    model = Model(inputs=inputs, outputs=predictions)\n",
        "    model.compile(optimizer='adam',loss='mean_squared_error')\n",
        "    model.fit(X_train, y_train, epochs=5, batch_size=10,shuffle=True)\n",
        "    y_pred = model.predict(X_val)\n",
        "\n",
        "    #print(X_train.shape, y_train.shape)\n",
        "    #print(X_val.shape, y_val.shape)\n",
        "    \n",
        "    # Calculate the RMSE score as fitness score for GA\n",
        "    rmse = np.sqrt(mean_squared_error(y_val, y_pred))\n",
        "    print('Validation RMSE: ', rmse,'\\n')\n",
        "    \n",
        "    return rmse,\n",
        "\n"
      ],
      "execution_count": 0,
      "outputs": []
    },
    {
      "cell_type": "code",
      "metadata": {
        "id": "R_xneyoD4eGV",
        "colab_type": "code",
        "colab": {
          "base_uri": "https://localhost:8080/",
          "height": 1000
        },
        "outputId": "223ad9a9-3553-41d2-b187-220d41f9bc0a"
      },
      "source": [
        "population_size = 4\n",
        "num_generations = 4\n",
        "gene_length = 10\n",
        "\n",
        "# As we are trying to minimize the RMSE score, that's why using -1.0. \n",
        "# In case, when you want to maximize accuracy for instance, use 1.0\n",
        "creator.create('FitnessMax', base.Fitness, weights = (-1.0,))\n",
        "creator.create('Individual', list , fitness = creator.FitnessMax)\n",
        "\n",
        "toolbox = base.Toolbox()\n",
        "toolbox.register('binary', bernoulli.rvs, 0.5)\n",
        "toolbox.register('individual', tools.initRepeat, creator.Individual, toolbox.binary, n = gene_length)\n",
        "toolbox.register('population', tools.initRepeat, list , toolbox.individual)\n",
        "\n",
        "toolbox.register('mate', tools.cxOrdered)\n",
        "toolbox.register('mutate', tools.mutShuffleIndexes, indpb = 0.6)\n",
        "toolbox.register('select', tools.selRoulette)\n",
        "toolbox.register('evaluate', train_evaluate)\n",
        "\n",
        "population = toolbox.population(n = population_size)\n",
        "r = algorithms.eaSimple(population, toolbox, cxpb = 0.4, mutpb = 0.1, ngen = num_generations, verbose = False)"
      ],
      "execution_count": 13,
      "outputs": [
        {
          "output_type": "stream",
          "text": [
            "\n",
            "Window Size:  36 , Num of Units:  2\n",
            "Epoch 1/5\n",
            "13776/13776 [==============================] - 13s 942us/step - loss: 0.0187\n",
            "Epoch 2/5\n",
            "13776/13776 [==============================] - 12s 888us/step - loss: 0.0087\n",
            "Epoch 3/5\n",
            "13776/13776 [==============================] - 13s 912us/step - loss: 0.0066\n",
            "Epoch 4/5\n",
            "13776/13776 [==============================] - 12s 894us/step - loss: 0.0059\n",
            "Epoch 5/5\n",
            "13776/13776 [==============================] - 12s 905us/step - loss: 0.0057\n",
            "Validation RMSE:  0.07613214069942839 \n",
            "\n",
            "\n",
            "Window Size:  56 , Num of Units:  8\n",
            "Epoch 1/5\n",
            "13760/13760 [==============================] - 21s 2ms/step - loss: 0.0128\n",
            "Epoch 2/5\n",
            "13760/13760 [==============================] - 22s 2ms/step - loss: 0.0063\n",
            "Epoch 3/5\n",
            "13760/13760 [==============================] - 21s 2ms/step - loss: 0.0058\n",
            "Epoch 4/5\n",
            "13760/13760 [==============================] - 22s 2ms/step - loss: 0.0058\n",
            "Epoch 5/5\n",
            "13760/13760 [==============================] - 21s 2ms/step - loss: 0.0057\n",
            "Validation RMSE:  0.0742828469134185 \n",
            "\n",
            "\n",
            "Window Size:  60 , Num of Units:  9\n",
            "Epoch 1/5\n",
            "13756/13756 [==============================] - 23s 2ms/step - loss: 0.0181\n",
            "Epoch 2/5\n",
            "13756/13756 [==============================] - 23s 2ms/step - loss: 0.0072\n",
            "Epoch 3/5\n",
            "13756/13756 [==============================] - 23s 2ms/step - loss: 0.0060\n",
            "Epoch 4/5\n",
            "13756/13756 [==============================] - 24s 2ms/step - loss: 0.0058\n",
            "Epoch 5/5\n",
            "13756/13756 [==============================] - 24s 2ms/step - loss: 0.0058\n",
            "Validation RMSE:  0.07485287914799145 \n",
            "\n",
            "\n",
            "Window Size:  49 , Num of Units:  9\n",
            "Epoch 1/5\n",
            "13765/13765 [==============================] - 20s 1ms/step - loss: 0.0144\n",
            "Epoch 2/5\n",
            "13765/13765 [==============================] - 19s 1ms/step - loss: 0.0066\n",
            "Epoch 3/5\n",
            "13765/13765 [==============================] - 19s 1ms/step - loss: 0.0059\n",
            "Epoch 4/5\n",
            "13765/13765 [==============================] - 20s 1ms/step - loss: 0.0058\n",
            "Epoch 5/5\n",
            "13765/13765 [==============================] - 20s 1ms/step - loss: 0.0058\n",
            "Validation RMSE:  0.07408573743595047 \n",
            "\n",
            "\n",
            "Window Size:  47 , Num of Units:  8\n",
            "Epoch 1/5\n",
            "13767/13767 [==============================] - 18s 1ms/step - loss: 0.0140\n",
            "Epoch 2/5\n",
            "13767/13767 [==============================] - 18s 1ms/step - loss: 0.0067\n",
            "Epoch 3/5\n",
            "13767/13767 [==============================] - 17s 1ms/step - loss: 0.0058\n",
            "Epoch 4/5\n",
            "13767/13767 [==============================] - 17s 1ms/step - loss: 0.0057\n",
            "Epoch 5/5\n",
            "13767/13767 [==============================] - 17s 1ms/step - loss: 0.0057\n",
            "Validation RMSE:  0.07523269477487195 \n",
            "\n",
            "\n",
            "Window Size:  15 , Num of Units:  15\n",
            "Epoch 1/5\n",
            "13792/13792 [==============================] - 8s 560us/step - loss: 0.0139\n",
            "Epoch 2/5\n",
            "13792/13792 [==============================] - 7s 539us/step - loss: 0.0061\n",
            "Epoch 3/5\n",
            "13792/13792 [==============================] - 7s 543us/step - loss: 0.0058\n",
            "Epoch 4/5\n",
            "13792/13792 [==============================] - 8s 545us/step - loss: 0.0057\n",
            "Epoch 5/5\n",
            "13792/13792 [==============================] - 8s 545us/step - loss: 0.0057\n",
            "Validation RMSE:  0.0781658048883866 \n",
            "\n",
            "\n",
            "Window Size:  33 , Num of Units:  8\n",
            "Epoch 1/5\n",
            "13778/13778 [==============================] - 13s 955us/step - loss: 0.0109\n",
            "Epoch 2/5\n",
            "13778/13778 [==============================] - 13s 939us/step - loss: 0.0060\n",
            "Epoch 3/5\n",
            "13778/13778 [==============================] - 13s 970us/step - loss: 0.0058\n",
            "Epoch 4/5\n",
            "13778/13778 [==============================] - 14s 990us/step - loss: 0.0057\n",
            "Epoch 5/5\n",
            "13778/13778 [==============================] - 14s 994us/step - loss: 0.0057\n",
            "Validation RMSE:  0.07555590158670585 \n",
            "\n",
            "\n",
            "Window Size:  39 , Num of Units:  14\n",
            "Epoch 1/5\n",
            "13773/13773 [==============================] - 16s 1ms/step - loss: 0.0122\n",
            "Epoch 2/5\n",
            "13773/13773 [==============================] - 16s 1ms/step - loss: 0.0058\n",
            "Epoch 3/5\n",
            "13773/13773 [==============================] - 15s 1ms/step - loss: 0.0057\n",
            "Epoch 4/5\n",
            "13773/13773 [==============================] - 16s 1ms/step - loss: 0.0057\n",
            "Epoch 5/5\n",
            "13773/13773 [==============================] - 16s 1ms/step - loss: 0.0056\n",
            "Validation RMSE:  0.07796237935421625 \n",
            "\n",
            "\n",
            "Window Size:  9 , Num of Units:  9\n",
            "Epoch 1/5\n",
            "13797/13797 [==============================] - 5s 397us/step - loss: 0.0133\n",
            "Epoch 2/5\n",
            "13797/13797 [==============================] - 5s 378us/step - loss: 0.0065\n",
            "Epoch 3/5\n",
            "13797/13797 [==============================] - 5s 377us/step - loss: 0.0057\n",
            "Epoch 4/5\n",
            "13797/13797 [==============================] - 5s 375us/step - loss: 0.0056\n",
            "Epoch 5/5\n",
            "13797/13797 [==============================] - 5s 380us/step - loss: 0.0056\n",
            "Validation RMSE:  0.07971762972373296 \n",
            "\n"
          ],
          "name": "stdout"
        }
      ]
    },
    {
      "cell_type": "code",
      "metadata": {
        "id": "ufgC2CCW4vN3",
        "colab_type": "code",
        "colab": {
          "base_uri": "https://localhost:8080/",
          "height": 51
        },
        "outputId": "88b16542-0c8f-46da-c91e-419c69cc1c02"
      },
      "source": [
        "best_individuals = tools.selBest(population,k = 1)\n",
        "best_window_size = None\n",
        "best_num_units = None\n",
        "\n",
        "for bi in best_individuals:\n",
        "    window_size_bits = BitArray(bi[0:6])\n",
        "    num_units_bits = BitArray(bi[6:]) \n",
        "    best_window_size = window_size_bits.uint\n",
        "    best_num_units = num_units_bits.uint\n",
        "    print('\\nWindow Size: ', best_window_size, ', Num of Units: ', best_num_units)"
      ],
      "execution_count": 14,
      "outputs": [
        {
          "output_type": "stream",
          "text": [
            "\n",
            "Window Size:  60 , Num of Units:  9\n"
          ],
          "name": "stdout"
        }
      ]
    },
    {
      "cell_type": "code",
      "metadata": {
        "id": "T86xVn7-AVMQ",
        "colab_type": "code",
        "colab": {
          "base_uri": "https://localhost:8080/",
          "height": 34
        },
        "outputId": "bc7e7d0b-16ca-48b5-deff-8e10ad2afedf"
      },
      "source": [
        "print(window_size_bits)"
      ],
      "execution_count": 24,
      "outputs": [
        {
          "output_type": "stream",
          "text": [
            "0b111100\n"
          ],
          "name": "stdout"
        }
      ]
    },
    {
      "cell_type": "code",
      "metadata": {
        "id": "SjVywdtzAef-",
        "colab_type": "code",
        "colab": {
          "base_uri": "https://localhost:8080/",
          "height": 34
        },
        "outputId": "10a172c3-b735-4f95-9949-43c334c6c50e"
      },
      "source": [
        "print(num_units_bits)"
      ],
      "execution_count": 25,
      "outputs": [
        {
          "output_type": "stream",
          "text": [
            "0x9\n"
          ],
          "name": "stdout"
        }
      ]
    },
    {
      "cell_type": "code",
      "metadata": {
        "id": "bKzZwt6z750H",
        "colab_type": "code",
        "colab": {
          "base_uri": "https://localhost:8080/",
          "height": 204
        },
        "outputId": "0f5f0247-7ee5-46ec-fe4f-4c0c0ba30207"
      },
      "source": [
        "X_train,y_train = prepare_dataset(train_data,best_window_size)\n",
        "X_test, y_test = prepare_dataset(test_data,best_window_size)\n",
        "\n",
        "inputs = Input(shape=(best_window_size,1))\n",
        "x = LSTM(best_num_units, input_shape=(best_window_size,1))(inputs)\n",
        "predictions = Dense(1, activation='linear')(x)\n",
        "model = Model(inputs = inputs, outputs = predictions)\n",
        "model.compile(optimizer='adam',loss='mean_squared_error')\n",
        "model.fit(X_train, y_train, epochs=5, batch_size=10,shuffle=True)\n",
        "y_pred = model.predict(X_test)\n",
        "\n",
        "rmse = np.sqrt(mean_squared_error(y_test, y_pred))\n",
        "print('Test RMSE: ', rmse)"
      ],
      "execution_count": 15,
      "outputs": [
        {
          "output_type": "stream",
          "text": [
            "Epoch 1/5\n",
            "17196/17196 [==============================] - 29s 2ms/step - loss: 0.0188\n",
            "Epoch 2/5\n",
            "17196/17196 [==============================] - 29s 2ms/step - loss: 0.0061\n",
            "Epoch 3/5\n",
            "17196/17196 [==============================] - 30s 2ms/step - loss: 0.0058\n",
            "Epoch 4/5\n",
            "17196/17196 [==============================] - 29s 2ms/step - loss: 0.0057\n",
            "Epoch 5/5\n",
            "17196/17196 [==============================] - 28s 2ms/step - loss: 0.0057\n",
            "Test RMSE:  0.09234263847427145\n"
          ],
          "name": "stdout"
        }
      ]
    },
    {
      "cell_type": "code",
      "metadata": {
        "id": "xevG8zBnAc6k",
        "colab_type": "code",
        "colab": {}
      },
      "source": [
        ""
      ],
      "execution_count": 0,
      "outputs": []
    },
    {
      "cell_type": "code",
      "metadata": {
        "id": "9Ehjl26P7_Ct",
        "colab_type": "code",
        "colab": {
          "base_uri": "https://localhost:8080/",
          "height": 34
        },
        "outputId": "b4eb889a-a678-4cb1-93a2-5e16a39a4ab6"
      },
      "source": [
        "from keras.models import load_model\n",
        "model_json = model.to_json()\n",
        "with open(\"/content/gdrive/My Drive/Colab Notebooks/Best_individual_model.json\", \"w\") as json_file:\n",
        "  json_file.write(model_json)\n",
        "model.save(\"/content/gdrive/My Drive/Colab Notebooks/Best_individual_model.h5\")\n",
        "print(\"Savedmodel to drive\")"
      ],
      "execution_count": 16,
      "outputs": [
        {
          "output_type": "stream",
          "text": [
            "Savedmodel to drive\n"
          ],
          "name": "stdout"
        }
      ]
    },
    {
      "cell_type": "code",
      "metadata": {
        "id": "w1DTkPFT9Pgc",
        "colab_type": "code",
        "colab": {
          "base_uri": "https://localhost:8080/",
          "height": 850
        },
        "outputId": "a4ebbb94-aa72-4f6e-f01b-69ea534b020e"
      },
      "source": [
        "print(X_train)"
      ],
      "execution_count": 17,
      "outputs": [
        {
          "output_type": "stream",
          "text": [
            "[[[0.045]\n",
            "  [0.085]\n",
            "  [0.02 ]\n",
            "  ...\n",
            "  [0.025]\n",
            "  [0.04 ]\n",
            "  [0.1  ]]\n",
            "\n",
            " [[0.085]\n",
            "  [0.02 ]\n",
            "  [0.06 ]\n",
            "  ...\n",
            "  [0.04 ]\n",
            "  [0.1  ]\n",
            "  [0.175]]\n",
            "\n",
            " [[0.02 ]\n",
            "  [0.06 ]\n",
            "  [0.045]\n",
            "  ...\n",
            "  [0.1  ]\n",
            "  [0.175]\n",
            "  [0.13 ]]\n",
            "\n",
            " ...\n",
            "\n",
            " [[0.   ]\n",
            "  [0.   ]\n",
            "  [0.   ]\n",
            "  ...\n",
            "  [0.09 ]\n",
            "  [0.11 ]\n",
            "  [0.11 ]]\n",
            "\n",
            " [[0.   ]\n",
            "  [0.   ]\n",
            "  [0.   ]\n",
            "  ...\n",
            "  [0.11 ]\n",
            "  [0.11 ]\n",
            "  [0.095]]\n",
            "\n",
            " [[0.   ]\n",
            "  [0.   ]\n",
            "  [0.   ]\n",
            "  ...\n",
            "  [0.11 ]\n",
            "  [0.095]\n",
            "  [0.14 ]]]\n"
          ],
          "name": "stdout"
        }
      ]
    },
    {
      "cell_type": "code",
      "metadata": {
        "id": "AVXN6DOn9gIh",
        "colab_type": "code",
        "colab": {
          "base_uri": "https://localhost:8080/",
          "height": 51
        },
        "outputId": "826301ca-5800-459d-b8ef-46988e30265a"
      },
      "source": [
        "print(X_train.shape, y_train.shape)\n",
        "print(X_test.shape, y_test.shape)\n"
      ],
      "execution_count": 18,
      "outputs": [
        {
          "output_type": "stream",
          "text": [
            "(17196, 60, 1) (17196, 1)\n",
            "(1439, 60, 1) (1439, 1)\n"
          ],
          "name": "stdout"
        }
      ]
    },
    {
      "cell_type": "code",
      "metadata": {
        "id": "pVjJNbSp-K04",
        "colab_type": "code",
        "colab": {}
      },
      "source": [
        ""
      ],
      "execution_count": 0,
      "outputs": []
    }
  ]
}